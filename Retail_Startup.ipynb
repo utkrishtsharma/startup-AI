{
  "nbformat": 4,
  "nbformat_minor": 0,
  "metadata": {
    "colab": {
      "name": "Retail Startup",
      "version": "0.3.2",
      "provenance": []
    },
    "kernelspec": {
      "name": "python3",
      "display_name": "Python 3"
    }
  },
  "cells": [
    {
      "cell_type": "markdown",
      "metadata": {
        "id": "JlQAsDMJ5zkk",
        "colab_type": "text"
      },
      "source": [
        "## SmartSneaks\n",
        "\n",
        "### Demo Explanation\n",
        "SmartSneaks is a mobile app that let's a user design their own sneaker using a song or image of their choice! The app works by first allowing the user to select a song or image of their choice, then converts their selection into a novel sneaker design using a custom AI model. Then, after selecting their desired size, they can purchase the sneaker and SmartSneaks will send it to their home. \n",
        "\n",
        "![alt text](https://i.imgur.com/0932YSW.png)\n",
        "![alt text](https://i.imgur.com/E2dFObE.png)\n",
        "\n",
        "\n",
        "## 3 Things You'll Learn \n",
        "- How to Build a Deep Learning API for your mobile app\n",
        "- How to generate images with a Generative Adversarial Network\n",
        "- How to calculate image similarity with OpenCV\n",
        "\n",
        "## Never Coded before? Watch this first\n",
        "[![IMAGE ALT TEXT HERE](https://img.youtube.com/vi/Cr6VqTRO1v0/0.jpg)](https://www.youtube.com/watch?v=Cr6VqTRO1v0)\n",
        "\n",
        "## Tools Used \n",
        "- Flutter (Native iOS & Android app with 1 codebase)\n",
        "![alt text](https://public.steelkiwi.com/media/filer_public/a8/22/a822b4b1-a496-40ff-bada-18027e30ff18/hot-reload.gif)\n",
        "- Stripe/RazorPay/Paypal (Payments)\n",
        "![alt text](https://i.imgur.com/Vgmf61g.png)\n",
        "- Firebase (Cloud Storage\n",
        "![alt text](https://www.mcs-stl.com/files/2018/06/firebase-1024x585.png)\n",
        "- Spotify (Song Selection)\n",
        "![alt text](https://developer.spotify.com/assets/WebAPI_intro.png)\n",
        "- Tensorflow (Conditional Generative Adversarial Network for audio to Image Synthesis & Deep Convolutional Generative Adversarial Network for Generating Sneaker Designs)\n",
        "![alt text](https://miro.medium.com/max/1200/1*8NOcMorGV64z2C2X3ksTbA.png)\n",
        "- OpenCV (Match Images with Sneaker Designs)\n",
        "![alt text](https://www.pyimagesearch.com/wp-content/uploads/2018/05/opencv_tutorial_header.jpg)\n",
        "- Flask (API Design)\n",
        "![alt text](https://i.ytimg.com/vi/s_ht4AKnWZg/maxresdefault.jpg)\n",
        "\n",
        "## The 10 Step Tutorial\n",
        "\n",
        "- Step 1- Installation (Flutter, Android Studio)\n",
        "- Step 2 - Download and Run Base Application\n",
        "- Step 3 - Design Selection Page (Flutter Widget Tree Design)\n",
        "- Step 4 - Add Payments\n",
        "- Step 5 - Generating Images with Generative Adversarial Networks\n",
        "- Step 6 - Create a Flask App (Install Python & Flask)\n",
        "- Step 7 - Create POST Request from Flutter App to Flask App \n",
        "- Step 8 - Compare Images with OpenCV\n",
        "- Step 9 - Complete the Mobile Purchasing Funnel\n",
        "- Step 10 - Ways to Improve the app\n",
        "\n",
        "### One more note before we get started on China\n",
        "- For China, hosting, android and apple app store, payments, and various APIs are blocked. It's best to find a Chinese partner to create a 'china' version of your app to sell to them."
      ]
    },
    {
      "cell_type": "markdown",
      "metadata": {
        "id": "HT5raUxeOJgZ",
        "colab_type": "text"
      },
      "source": [
        "## Step 1- Installation (Flutter, Android Studio)\n",
        "\n",
        "### Install Android Studio (Windows, Mac, Linux)\n",
        "\n",
        "- https://developer.android.com/studio\n",
        "\n",
        "### Install Flutter\n",
        "\n",
        "- https://flutter.dev/docs/get-started/install "
      ]
    },
    {
      "cell_type": "markdown",
      "metadata": {
        "id": "Qb76J_pTPAR3",
        "colab_type": "text"
      },
      "source": [
        "## Step 2 - Download and Run Base Application\n",
        "\n",
        "- https://github.com/huextrat/TheGorgeousLogin\n",
        "- Add Firebase Login/Signup Code"
      ]
    },
    {
      "cell_type": "markdown",
      "metadata": {
        "id": "YW9nwUt7PWb3",
        "colab_type": "text"
      },
      "source": [
        "## Step 3 - Design Selection Page (Flutter Widget Tree Design)\n",
        "\n",
        "![alt text](https://miro.medium.com/max/1400/1*jFyS_8BTH7AIQH3UkocMZw.png)\n",
        "\n",
        "![alt text](https://i.stack.imgur.com/g6YEk.png)\n",
        "\n",
        "- Select a song using Spotify\n",
        "- Select an image using camera or image gallery\n",
        "- Select a color using a color picker plugin"
      ]
    },
    {
      "cell_type": "markdown",
      "metadata": {
        "id": "KUmLQYxVR3FH",
        "colab_type": "text"
      },
      "source": [
        "## Step 4 - Add Payments\n",
        "\n",
        "- Add Stripe plugin\n",
        "- Add Razor Pay plugin\n",
        "- Add Paypal Plugin"
      ]
    },
    {
      "cell_type": "markdown",
      "metadata": {
        "id": "C2dUfSs_R9Mu",
        "colab_type": "text"
      },
      "source": [
        "## Step 5 - Generating Images with Generative Adversarial Networks\n",
        "\n",
        "- Watch this first\n",
        "\n",
        "[![IMAGE ALT TEXT HERE](https://img.youtube.com/vi/yz6dNf7X7SA/0.jpg)](https://www.youtube.com/watch?v=yz6dNf7X7SA)\n",
        "\n",
        "### How does a Generative Adversarial Network Work?\n",
        "\n",
        "- https://poloclub.github.io/ganlab/ \n",
        "![alt text](https://tensorflow.org/beta/tutorials/generative/images/gan1.png)\n",
        "![alt text](https://tensorflow.org/beta/tutorials/generative/images/gan2.png)\n",
        "\n",
        "### Applications of GANs\n",
        "![alt text](https://cdn.vox-cdn.com/uploads/chorus_asset/file/15972196/nvidia_gaugan_gif.gif)\n",
        "![alt text](https://image.slidesharecdn.com/aimeetgans-170110113744/95/generative-adversarial-networks-and-their-applications-27-638.jpg?cb=1484049167)\n",
        "![alt text](https://miro.medium.com/max/1400/1*HaExieykcOT5oI2_xKisrQ.png)\n",
        "![alt text](https://eurekalert.org/multimedia_ml/pub/web/5383_web.jpg)\n",
        "\n",
        "### Types of GANs\n",
        "- https://deephunt.in/the-gan-zoo-79597dc8c347\n",
        "\n",
        "### Conditional GAN (audio to image synthesis)\n",
        "![alt text](http://guimperarnau.com/files/blog/Fantastic-GANs-and-where-to-find-them/cGAN_overview.jpg)\n",
        "- https://arxiv.org/abs/1808.04108 \n",
        "\n",
        "### Deep Convolutional GAN (image generation)\n",
        "![alt text](https://ai2-s2-public.s3.amazonaws.com/figures/2017-08-08/9a989c7032051566d3ade03e5650ea6a41a5a9ed/6-Figure5-1.png)\n",
        "- https://github.com/micah5/sneaker-generator "
      ]
    },
    {
      "cell_type": "markdown",
      "metadata": {
        "id": "JlRCsWcpS5R3",
        "colab_type": "text"
      },
      "source": [
        "## Step 6 - Create a Flask App\n"
      ]
    },
    {
      "cell_type": "markdown",
      "metadata": {
        "id": "--vgFBOsSXyO",
        "colab_type": "text"
      },
      "source": [
        "![alt text](https://code.visualstudio.com/assets/docs/python/flask-tutorial/debug-breakpoint-set.png)\n",
        "\n",
        "- Add Sneaker Generation Code to Flask App with Tensorflow\n",
        "- Add Audio to Image Code to Flask App with Tensorflow\n",
        "- Deploy Flask App"
      ]
    },
    {
      "cell_type": "markdown",
      "metadata": {
        "id": "X4IfBYuxTUAO",
        "colab_type": "text"
      },
      "source": [
        "## Step 7 - Create POST Request from Flutter App to Flask App"
      ]
    },
    {
      "cell_type": "markdown",
      "metadata": {
        "id": "FsmWMdG8TiKG",
        "colab_type": "text"
      },
      "source": [
        "## Step 8 - Compare Images with OpenCV\n",
        "\n",
        "![alt text](https://docs.opencv.org/3.1.0/histogram_rgb_plot.jpg)\n",
        "\n",
        "- Image Similarity Detection by comparing histograms (OpenCV method: compareHist())\n",
        "- Return image with highest similarity\n"
      ]
    },
    {
      "cell_type": "markdown",
      "metadata": {
        "id": "7YcIpmVET00u",
        "colab_type": "text"
      },
      "source": [
        "## Step 9 - Complete the Mobile Purchasing Funnel"
      ]
    },
    {
      "cell_type": "markdown",
      "metadata": {
        "id": "gcNB8yHdTx-W",
        "colab_type": "text"
      },
      "source": [
        "## Step 10 - Ways to Improve the app\n",
        "\n",
        "- More integrated color design\n",
        "- A/B Testing\n",
        "- Cleaner, object oriented code\n",
        "- Continous Training in the Cloud"
      ]
    }
  ]
}